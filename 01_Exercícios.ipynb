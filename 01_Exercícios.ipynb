{
  "cells": [
    {
      "cell_type": "markdown",
      "metadata": {
        "id": "view-in-github",
        "colab_type": "text"
      },
      "source": [
        "<a href=\"https://colab.research.google.com/github/Souzadfs/python-for-data-science/blob/main/01_Exerc%C3%ADcios.ipynb\" target=\"_parent\"><img src=\"https://colab.research.google.com/assets/colab-badge.svg\" alt=\"Open In Colab\"/></a>"
      ]
    },
    {
      "cell_type": "code",
      "execution_count": null,
      "metadata": {
        "id": "97edjYHYd2fj"
      },
      "outputs": [],
      "source": []
    },
    {
      "cell_type": "markdown",
      "metadata": {
        "id": "I_OIV1P9d3OX"
      },
      "source": [
        "***EXERCÍCIOS ESTRUTURA DE DADOS***"
      ]
    },
    {
      "cell_type": "code",
      "execution_count": null,
      "metadata": {
        "colab": {
          "base_uri": "https://localhost:8080/",
          "height": 88
        },
        "id": "xFc5-JRid9cB",
        "outputId": "78664d1b-e638-46ca-ef31-3e192fc9e2b2"
      },
      "outputs": [
        {
          "name": "stdout",
          "output_type": "stream",
          "text": [
            "Qual seu Nome: Denis\n",
            "Qual ser peso? 90\n",
            "Qual Sua altura? 1.82\n"
          ]
        },
        {
          "data": {
            "application/vnd.google.colaboratory.intrinsic+json": {
              "type": "string"
            },
            "text/plain": [
              "'49.45'"
            ]
          },
          "execution_count": 12,
          "metadata": {},
          "output_type": "execute_result"
        }
      ],
      "source": [
        "Nome = input(\"Qual seu Nome: \")\n",
        "peso = float(input(\"Qual ser peso? \"))\n",
        "altura = float(input(\"Qual Sua altura? \"))\n",
        "imc = peso / altura\n",
        "format(imc, \".2f\")"
      ]
    },
    {
      "cell_type": "markdown",
      "metadata": {
        "id": "BH1zFgHikHc6"
      },
      "source": [
        "Escreva um programa que pergunte o nome do usuario e comprimente pelo primeiro nome."
      ]
    },
    {
      "cell_type": "code",
      "execution_count": null,
      "metadata": {
        "colab": {
          "base_uri": "https://localhost:8080/"
        },
        "id": "HzAzcEKMe1Ms",
        "outputId": "036dcc7c-cd47-417b-a703-fd5e2a9f68cc"
      },
      "outputs": [
        {
          "name": "stdout",
          "output_type": "stream",
          "text": [
            "Qual seu nome completo? Debora Everlyn Severino de Souza\n",
            "Olá,Debora\n"
          ]
        }
      ],
      "source": [
        "nome = input(\"Qual seu nome completo? \")\n",
        "primeiro_nome = nome.split()[0]\n",
        "print(f\"Olá,{primeiro_nome}\")"
      ]
    },
    {
      "cell_type": "markdown",
      "metadata": {
        "id": "IilK4yyAnUgP"
      },
      "source": [
        "Desenhe um código que extraí o dominio do email informado"
      ]
    },
    {
      "cell_type": "code",
      "execution_count": null,
      "metadata": {
        "colab": {
          "base_uri": "https://localhost:8080/"
        },
        "id": "TbiS5mNwe1PI",
        "outputId": "13fab273-9db4-44aa-c40f-a5ed57a07614"
      },
      "outputs": [
        {
          "name": "stdout",
          "output_type": "stream",
          "text": [
            "Digite seu email:souzadf09@gmail.com\n",
            "O seu dominio,gmail.com\n"
          ]
        }
      ],
      "source": [
        "email = input(\"Digite seu email:\")\n",
        "dominio = email.split(\"@\")[-1]\n",
        "print(f'O seu dominio,{dominio}')"
      ]
    },
    {
      "cell_type": "markdown",
      "metadata": {
        "id": "GEB_s35Yotrk"
      },
      "source": [
        "Faça um programa uma loja de tintas. A pessoa informa  a área em m2 que deseja pintar, e o script calculara  a quantidade  de latas de ve comprar"
      ]
    },
    {
      "cell_type": "code",
      "execution_count": null,
      "metadata": {
        "id": "zFdugJ3Re1Ry",
        "colab": {
          "base_uri": "https://localhost:8080/"
        },
        "outputId": "1d3a5cd9-1060-413b-88ea-5f348f5461aa"
      },
      "outputs": [
        {
          "output_type": "stream",
          "name": "stdout",
          "text": [
            "Qual a quantidade em m2 você irá pintar: 50\n",
            " Então você irá precisar de, 0.5 Galão de 18 litros\n",
            "O valor será de, 40.0 Reais!\n"
          ]
        }
      ],
      "source": [
        "qtd_por_litro = 18\n",
        "qtd_rendimento = 100\n",
        "rend_por_litro = qtd_rendimento / qtd_por_litro\n",
        "\n",
        "qtd_m2 = float(input(\"Qual a quantidade em m2 você irá pintar: \"))\n",
        "r = qtd_m2 / rend_por_litro\n",
        "resultado = r / qtd_por_litro\n",
        "print(f' Então você irá precisar de, {resultado} Galão de 18 litros')\n",
        "valor = resultado * 80\n",
        "print(f'O valor será de, {valor} Reais!')\n",
        "\n"
      ]
    },
    {
      "cell_type": "markdown",
      "source": [
        "Faça um programa"
      ],
      "metadata": {
        "id": "Aq__6sk1cCw4"
      }
    },
    {
      "cell_type": "code",
      "source": [
        "ganho_hr = float(input('Quantos você ganha por hora? '))\n",
        "ganho_mes = float(input('Quantas horas você trabalha por mês ?'))\n",
        "valor_bruto = ganho_hr * ganho_mes\n",
        "\n",
        "valor_inss = (valor_bruto * 11) / 100\n",
        "valor_ir = (valor_bruto * 8) / 100\n",
        "valor_sindicato = (valor_bruto * 5) / 100\n",
        "valor_liquido = valor_bruto - valor_inss - valor_ir - valor_sindicato\n",
        "print('-----------------------------------------------------------')\n",
        "print(f'Seu salario Bruto é: {valor_bruto} Reais')\n",
        "print(f'Valor descontado do INSS: {valor_inss} Reais')\n",
        "print(f'Valor descontado do IR: {valor_ir} Reais')\n",
        "print(f'Valor descontado do SINDICATO: {valor_sindicato} Reais')\n",
        "\n",
        "print('-----------------------------------------------------------')\n",
        "print(f'Valor Liquido do Seu salario é: {valor_liquido} Reais')"
      ],
      "metadata": {
        "id": "GfkwaKsbcHsJ",
        "colab": {
          "base_uri": "https://localhost:8080/"
        },
        "outputId": "6bd7c6bf-efa8-4c95-a2ae-f44dc8844037"
      },
      "execution_count": 5,
      "outputs": [
        {
          "output_type": "stream",
          "name": "stdout",
          "text": [
            "Quantos você ganha por hora? 20\n",
            "Quantas horas você trabalha por mês ?220\n",
            "-----------------------------------------------------------\n",
            "Seu salario Bruto é: 4400.0 Reais\n",
            "Valor descontado do INSS: 484.0 Reais\n",
            "Valor descontado do IR: 352.0 Reais\n",
            "Valor descontado do SINDICATO: 220.0 Reais\n",
            "-----------------------------------------------------------\n",
            "Valor Liquido do Seu salario é: 3344.0 Reais\n"
          ]
        }
      ]
    }
  ],
  "metadata": {
    "colab": {
      "provenance": [],
      "authorship_tag": "ABX9TyNEZeZUP2TrTYmV5X++HhCb",
      "include_colab_link": true
    },
    "kernelspec": {
      "display_name": "Python 3",
      "name": "python3"
    },
    "language_info": {
      "name": "python"
    }
  },
  "nbformat": 4,
  "nbformat_minor": 0
}