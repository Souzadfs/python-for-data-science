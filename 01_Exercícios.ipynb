{
  "cells": [
    {
      "cell_type": "markdown",
      "metadata": {
        "id": "view-in-github",
        "colab_type": "text"
      },
      "source": [
        "<a href=\"https://colab.research.google.com/github/Souzadfs/python-for-data-science/blob/main/01_Exerc%C3%ADcios.ipynb\" target=\"_parent\"><img src=\"https://colab.research.google.com/assets/colab-badge.svg\" alt=\"Open In Colab\"/></a>"
      ]
    },
    {
      "cell_type": "code",
      "execution_count": null,
      "metadata": {
        "id": "97edjYHYd2fj"
      },
      "outputs": [],
      "source": []
    },
    {
      "cell_type": "markdown",
      "metadata": {
        "id": "I_OIV1P9d3OX"
      },
      "source": [
        "***EXERCÍCIOS ESTRUTURA DE DADOS***"
      ]
    },
    {
      "cell_type": "code",
      "execution_count": null,
      "metadata": {
        "colab": {
          "base_uri": "https://localhost:8080/",
          "height": 88
        },
        "id": "xFc5-JRid9cB",
        "outputId": "78664d1b-e638-46ca-ef31-3e192fc9e2b2"
      },
      "outputs": [
        {
          "name": "stdout",
          "output_type": "stream",
          "text": [
            "Qual seu Nome: Denis\n",
            "Qual ser peso? 90\n",
            "Qual Sua altura? 1.82\n"
          ]
        },
        {
          "data": {
            "application/vnd.google.colaboratory.intrinsic+json": {
              "type": "string"
            },
            "text/plain": [
              "'49.45'"
            ]
          },
          "execution_count": 12,
          "metadata": {},
          "output_type": "execute_result"
        }
      ],
      "source": [
        "Nome = input(\"Qual seu Nome: \")\n",
        "peso = float(input(\"Qual ser peso? \"))\n",
        "altura = float(input(\"Qual Sua altura? \"))\n",
        "imc = peso / altura\n",
        "format(imc, \".2f\")"
      ]
    },
    {
      "cell_type": "markdown",
      "metadata": {
        "id": "BH1zFgHikHc6"
      },
      "source": [
        "Escreva um programa que pergunte o nome do usuario e comprimente pelo primeiro nome."
      ]
    },
    {
      "cell_type": "code",
      "execution_count": null,
      "metadata": {
        "colab": {
          "base_uri": "https://localhost:8080/"
        },
        "id": "HzAzcEKMe1Ms",
        "outputId": "036dcc7c-cd47-417b-a703-fd5e2a9f68cc"
      },
      "outputs": [
        {
          "name": "stdout",
          "output_type": "stream",
          "text": [
            "Qual seu nome completo? Debora Everlyn Severino de Souza\n",
            "Olá,Debora\n"
          ]
        }
      ],
      "source": [
        "nome = input(\"Qual seu nome completo? \")\n",
        "primeiro_nome = nome.split()[0]\n",
        "print(f\"Olá,{primeiro_nome}\")"
      ]
    },
    {
      "cell_type": "markdown",
      "metadata": {
        "id": "IilK4yyAnUgP"
      },
      "source": [
        "Desenhe um código que extraí o dominio do email informado"
      ]
    },
    {
      "cell_type": "code",
      "execution_count": null,
      "metadata": {
        "colab": {
          "base_uri": "https://localhost:8080/"
        },
        "id": "TbiS5mNwe1PI",
        "outputId": "13fab273-9db4-44aa-c40f-a5ed57a07614"
      },
      "outputs": [
        {
          "name": "stdout",
          "output_type": "stream",
          "text": [
            "Digite seu email:souzadf09@gmail.com\n",
            "O seu dominio,gmail.com\n"
          ]
        }
      ],
      "source": [
        "email = input(\"Digite seu email:\")\n",
        "dominio = email.split(\"@\")[-1]\n",
        "print(f'O seu dominio,{dominio}')"
      ]
    },
    {
      "cell_type": "markdown",
      "metadata": {
        "id": "GEB_s35Yotrk"
      },
      "source": [
        "qtd_por_litro = 18\n",
        "qtd_rendimento = 100\n",
        "rend_por_litro = qtd_por"
      ]
    },
    {
      "cell_type": "code",
      "execution_count": 12,
      "metadata": {
        "id": "zFdugJ3Re1Ry",
        "colab": {
          "base_uri": "https://localhost:8080/"
        },
        "outputId": "d35eaf6c-035c-4893-bccb-c3b2fc63980d"
      },
      "outputs": [
        {
          "output_type": "stream",
          "name": "stdout",
          "text": [
            "Qual a quantidade em m2 você irá pintar: 1200\n",
            " Então você irá precisar de, 12.0 Galão de 18 litros\n",
            "O valor será de, 960.0 Reais!\n"
          ]
        }
      ],
      "source": [
        "qtd_por_litro = 18\n",
        "qtd_rendimento = 100\n",
        "rend_por_litro = qtd_rendimento / qtd_por_litro\n",
        "\n",
        "qtd_m2 = float(input(\"Qual a quantidade em m2 você irá pintar: \"))\n",
        "r = qtd_m2 / rend_por_litro\n",
        "resultado = r / qtd_por_litro\n",
        "print(f' Então você irá precisar de, {resultado} Galão de 18 litros')\n",
        "valor = resultado * 80\n",
        "print(f'O valor será de, {valor} Reais!')\n",
        "\n"
      ]
    },
    {
      "cell_type": "code",
      "execution_count": null,
      "metadata": {
        "id": "838CsAGte1VU",
        "colab": {
          "base_uri": "https://localhost:8080/"
        },
        "outputId": "802f70f3-f58f-48f2-ece9-577921d3ce2d"
      },
      "outputs": [
        {
          "output_type": "stream",
          "name": "stdout",
          "text": [
            "2.0\n"
          ]
        }
      ],
      "source": [
        "print(resultado)"
      ]
    },
    {
      "cell_type": "code",
      "source": [
        "print(rend_por_litro)"
      ],
      "metadata": {
        "colab": {
          "base_uri": "https://localhost:8080/"
        },
        "id": "Xsy6uR7Hrbkj",
        "outputId": "41042527-e352-43e6-fa02-9e310a05d67b"
      },
      "execution_count": null,
      "outputs": [
        {
          "output_type": "stream",
          "name": "stdout",
          "text": [
            "5.555555555555555\n"
          ]
        }
      ]
    }
  ],
  "metadata": {
    "colab": {
      "provenance": [],
      "authorship_tag": "ABX9TyPLZQw5hOLUNEysXnnSI08p",
      "include_colab_link": true
    },
    "kernelspec": {
      "display_name": "Python 3",
      "name": "python3"
    },
    "language_info": {
      "name": "python"
    }
  },
  "nbformat": 4,
  "nbformat_minor": 0
}