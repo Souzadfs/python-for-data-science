{
  "cells": [
    {
      "cell_type": "markdown",
      "metadata": {
        "id": "view-in-github",
        "colab_type": "text"
      },
      "source": [
        "<a href=\"https://colab.research.google.com/github/Souzadfs/python-for-data-science/blob/main/aula_4_Fundamentos.ipynb\" target=\"_parent\"><img src=\"https://colab.research.google.com/assets/colab-badge.svg\" alt=\"Open In Colab\"/></a>"
      ]
    },
    {
      "cell_type": "markdown",
      "metadata": {
        "id": "9d-fx25lYB9R"
      },
      "source": [
        "**OPERADORES DE COMPARAÇÃO**"
      ]
    },
    {
      "cell_type": "code",
      "execution_count": null,
      "metadata": {
        "colab": {
          "base_uri": "https://localhost:8080/"
        },
        "id": "-gP3KfynX9iq",
        "outputId": "ef35a07a-5e24-4a08-cec9-f929da1efe5d"
      },
      "outputs": [
        {
          "data": {
            "text/plain": [
              "True"
            ]
          },
          "execution_count": 1,
          "metadata": {},
          "output_type": "execute_result"
        }
      ],
      "source": [
        "2 == 2"
      ]
    },
    {
      "cell_type": "code",
      "execution_count": 1,
      "metadata": {
        "colab": {
          "base_uri": "https://localhost:8080/"
        },
        "id": "43Im6C_hYksS",
        "outputId": "7a76cffa-4761-439d-c6d6-06f3664b66ab"
      },
      "outputs": [
        {
          "output_type": "execute_result",
          "data": {
            "text/plain": [
              "False"
            ]
          },
          "metadata": {},
          "execution_count": 1
        }
      ],
      "source": [
        "1 < 2 > 3"
      ]
    },
    {
      "cell_type": "code",
      "execution_count": 3,
      "metadata": {
        "id": "1BtWciAoYk3C",
        "colab": {
          "base_uri": "https://localhost:8080/"
        },
        "outputId": "da467f51-fbe6-41c9-8088-6ca2425fb711"
      },
      "outputs": [
        {
          "output_type": "execute_result",
          "data": {
            "text/plain": [
              "True"
            ]
          },
          "metadata": {},
          "execution_count": 3
        }
      ],
      "source": [
        "3 > 2 and 3 > 2 and 3 > 2 and 5 < 6"
      ]
    },
    {
      "cell_type": "code",
      "execution_count": 4,
      "metadata": {
        "id": "K_StUd9MYk50",
        "colab": {
          "base_uri": "https://localhost:8080/"
        },
        "outputId": "15b9736e-5015-4478-f16e-cf023686f1d8"
      },
      "outputs": [
        {
          "output_type": "execute_result",
          "data": {
            "text/plain": [
              "False"
            ]
          },
          "metadata": {},
          "execution_count": 4
        }
      ],
      "source": [
        " 2 < 3 and 3 > 4"
      ]
    },
    {
      "cell_type": "code",
      "execution_count": 5,
      "metadata": {
        "id": "SX4qiGNkYk8L",
        "colab": {
          "base_uri": "https://localhost:8080/"
        },
        "outputId": "ec3d8351-85f0-4753-a997-96a8a5268d6a"
      },
      "outputs": [
        {
          "output_type": "execute_result",
          "data": {
            "text/plain": [
              "True"
            ]
          },
          "metadata": {},
          "execution_count": 5
        }
      ],
      "source": [
        "2 > 3 or 7 > 2"
      ]
    },
    {
      "cell_type": "markdown",
      "source": [
        "# **IF, ELIF AND ELSE**"
      ],
      "metadata": {
        "id": "KjoNIbUrTHzX"
      }
    },
    {
      "cell_type": "code",
      "execution_count": 24,
      "metadata": {
        "id": "eMvT9Nx4Yk-1",
        "colab": {
          "base_uri": "https://localhost:8080/"
        },
        "outputId": "2de0b856-b09e-406f-f337-ffc336eb3d82"
      },
      "outputs": [
        {
          "output_type": "stream",
          "name": "stdout",
          "text": [
            "Qual é a Temperatura hoje? -5\n",
            "Está muito frio\n"
          ]
        }
      ],
      "source": [
        "temp = float(input(\"Qual é a Temperatura hoje? \"))\n",
        "\n",
        "if temp > 30:\n",
        "  print(\"Está muito quente\")\n",
        "elif temp > 20:\n",
        "  print(\"Está fresco\")\n",
        "elif temp > 0:\n",
        "  print(\"Está frio\")\n",
        "elif temp < 0:\n",
        "  print(\"Está muito frio\")"
      ]
    },
    {
      "cell_type": "markdown",
      "source": [
        "# **RANGE**"
      ],
      "metadata": {
        "id": "fKagFBncWFRX"
      }
    },
    {
      "cell_type": "code",
      "execution_count": 25,
      "metadata": {
        "id": "gkCY8I9KYlBz",
        "colab": {
          "base_uri": "https://localhost:8080/"
        },
        "outputId": "36f705cd-a492-42af-df40-4d0df4f34d64"
      },
      "outputs": [
        {
          "output_type": "execute_result",
          "data": {
            "text/plain": [
              "range(0, 20)"
            ]
          },
          "metadata": {},
          "execution_count": 25
        }
      ],
      "source": [
        "range(0, 20, 1)"
      ]
    },
    {
      "cell_type": "code",
      "execution_count": 3,
      "metadata": {
        "id": "GxoGQAWRYlEO",
        "colab": {
          "base_uri": "https://localhost:8080/"
        },
        "outputId": "ceaaf38e-c077-43ac-a65e-531a74155550"
      },
      "outputs": [
        {
          "output_type": "execute_result",
          "data": {
            "text/plain": [
              "[0, 100]"
            ]
          },
          "metadata": {},
          "execution_count": 3
        }
      ],
      "source": [
        "list(range(0, 20, 2))"
      ]
    },
    {
      "cell_type": "code",
      "execution_count": 4,
      "metadata": {
        "id": "7iWdKtYBYlGr",
        "colab": {
          "base_uri": "https://localhost:8080/"
        },
        "outputId": "bedfd216-b42e-43d4-a394-e65f0034f2a5"
      },
      "outputs": [
        {
          "output_type": "execute_result",
          "data": {
            "text/plain": [
              "[0, 1, 2, 3, 4, 5, 6, 7, 8, 9, 10, 11, 12, 13, 14, 15, 16, 17, 18, 19]"
            ]
          },
          "metadata": {},
          "execution_count": 4
        }
      ],
      "source": [
        "list(range(0, 20))"
      ]
    },
    {
      "cell_type": "code",
      "source": [
        "list(range(20))"
      ],
      "metadata": {
        "colab": {
          "base_uri": "https://localhost:8080/"
        },
        "id": "7STKLj7wXCL7",
        "outputId": "2ee6db2f-00cf-474a-9e80-f8ec0fe159fe"
      },
      "execution_count": 5,
      "outputs": [
        {
          "output_type": "execute_result",
          "data": {
            "text/plain": [
              "[0, 1, 2, 3, 4, 5, 6, 7, 8, 9, 10, 11, 12, 13, 14, 15, 16, 17, 18, 19]"
            ]
          },
          "metadata": {},
          "execution_count": 5
        }
      ]
    },
    {
      "cell_type": "markdown",
      "source": [
        "# **FOR**"
      ],
      "metadata": {
        "id": "bKJBvQ4tZb-O"
      }
    },
    {
      "cell_type": "code",
      "source": [
        "for i in range(10):\n",
        "  print(i)"
      ],
      "metadata": {
        "id": "CpyyqvkGZgqw",
        "outputId": "4ae995b2-979b-44d9-d4d6-bfa2bd7d4cbd",
        "colab": {
          "base_uri": "https://localhost:8080/"
        }
      },
      "execution_count": 6,
      "outputs": [
        {
          "output_type": "stream",
          "name": "stdout",
          "text": [
            "0\n",
            "1\n",
            "2\n",
            "3\n",
            "4\n",
            "5\n",
            "6\n",
            "7\n",
            "8\n",
            "9\n"
          ]
        }
      ]
    },
    {
      "cell_type": "code",
      "source": [
        "list = range(0, 20,2)\n",
        "for i in list:\n",
        "\n",
        "  print(i)"
      ],
      "metadata": {
        "id": "WOjFSCumZrqf",
        "outputId": "e13f99d6-9e1f-47e3-b11b-fe5b6520f0b0",
        "colab": {
          "base_uri": "https://localhost:8080/"
        }
      },
      "execution_count": 15,
      "outputs": [
        {
          "output_type": "stream",
          "name": "stdout",
          "text": [
            "0\n",
            "2\n",
            "4\n",
            "6\n",
            "8\n",
            "10\n",
            "12\n",
            "14\n",
            "16\n",
            "18\n"
          ]
        }
      ]
    },
    {
      "cell_type": "code",
      "source": [
        "lista = range(102)\n",
        "for i in lista:\n",
        "  if  i % 2 != 0:\n",
        "    print(f\"{i} é impar\")\n",
        "  else:\n",
        "    print(f\"{i} é par\")"
      ],
      "metadata": {
        "id": "OGDJfphgZrtZ",
        "outputId": "baa9e264-4054-4383-a203-04b1842b5e5f",
        "colab": {
          "base_uri": "https://localhost:8080/"
        }
      },
      "execution_count": 13,
      "outputs": [
        {
          "output_type": "stream",
          "name": "stdout",
          "text": [
            "0 é par\n",
            "1 é impar\n",
            "2 é par\n",
            "3 é impar\n",
            "4 é par\n",
            "5 é impar\n",
            "6 é par\n",
            "7 é impar\n",
            "8 é par\n",
            "9 é impar\n",
            "10 é par\n",
            "11 é impar\n",
            "12 é par\n",
            "13 é impar\n",
            "14 é par\n",
            "15 é impar\n",
            "16 é par\n",
            "17 é impar\n",
            "18 é par\n",
            "19 é impar\n",
            "20 é par\n",
            "21 é impar\n",
            "22 é par\n",
            "23 é impar\n",
            "24 é par\n",
            "25 é impar\n",
            "26 é par\n",
            "27 é impar\n",
            "28 é par\n",
            "29 é impar\n",
            "30 é par\n",
            "31 é impar\n",
            "32 é par\n",
            "33 é impar\n",
            "34 é par\n",
            "35 é impar\n",
            "36 é par\n",
            "37 é impar\n",
            "38 é par\n",
            "39 é impar\n",
            "40 é par\n",
            "41 é impar\n",
            "42 é par\n",
            "43 é impar\n",
            "44 é par\n",
            "45 é impar\n",
            "46 é par\n",
            "47 é impar\n",
            "48 é par\n",
            "49 é impar\n",
            "50 é par\n",
            "51 é impar\n",
            "52 é par\n",
            "53 é impar\n",
            "54 é par\n",
            "55 é impar\n",
            "56 é par\n",
            "57 é impar\n",
            "58 é par\n",
            "59 é impar\n",
            "60 é par\n",
            "61 é impar\n",
            "62 é par\n",
            "63 é impar\n",
            "64 é par\n",
            "65 é impar\n",
            "66 é par\n",
            "67 é impar\n",
            "68 é par\n",
            "69 é impar\n",
            "70 é par\n",
            "71 é impar\n",
            "72 é par\n",
            "73 é impar\n",
            "74 é par\n",
            "75 é impar\n",
            "76 é par\n",
            "77 é impar\n",
            "78 é par\n",
            "79 é impar\n",
            "80 é par\n",
            "81 é impar\n",
            "82 é par\n",
            "83 é impar\n",
            "84 é par\n",
            "85 é impar\n",
            "86 é par\n",
            "87 é impar\n",
            "88 é par\n",
            "89 é impar\n",
            "90 é par\n",
            "91 é impar\n",
            "92 é par\n",
            "93 é impar\n",
            "94 é par\n",
            "95 é impar\n",
            "96 é par\n",
            "97 é impar\n",
            "98 é par\n",
            "99 é impar\n",
            "100 é par\n",
            "101 é impar\n"
          ]
        }
      ]
    },
    {
      "cell_type": "code",
      "source": [],
      "metadata": {
        "id": "lgYZnnVlZrwM"
      },
      "execution_count": null,
      "outputs": []
    },
    {
      "cell_type": "code",
      "source": [],
      "metadata": {
        "id": "4knO9QI8Zry7"
      },
      "execution_count": null,
      "outputs": []
    },
    {
      "cell_type": "code",
      "source": [],
      "metadata": {
        "id": "c5HOJuznZr2V"
      },
      "execution_count": null,
      "outputs": []
    }
  ],
  "metadata": {
    "colab": {
      "provenance": [],
      "authorship_tag": "ABX9TyMBoZEC8+PlWT1TMUTFC2vg",
      "include_colab_link": true
    },
    "kernelspec": {
      "display_name": "Python 3",
      "name": "python3"
    },
    "language_info": {
      "name": "python"
    }
  },
  "nbformat": 4,
  "nbformat_minor": 0
}