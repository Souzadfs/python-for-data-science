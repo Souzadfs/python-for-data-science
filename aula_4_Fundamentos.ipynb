{
  "cells": [
    {
      "cell_type": "markdown",
      "metadata": {
        "id": "view-in-github",
        "colab_type": "text"
      },
      "source": [
        "<a href=\"https://colab.research.google.com/github/Souzadfs/python-for-data-science/blob/main/aula_4_Fundamentos.ipynb\" target=\"_parent\"><img src=\"https://colab.research.google.com/assets/colab-badge.svg\" alt=\"Open In Colab\"/></a>"
      ]
    },
    {
      "cell_type": "markdown",
      "metadata": {
        "id": "9d-fx25lYB9R"
      },
      "source": [
        "**OPERADORES DE COMPARAÇÃO**"
      ]
    },
    {
      "cell_type": "code",
      "execution_count": null,
      "metadata": {
        "colab": {
          "base_uri": "https://localhost:8080/"
        },
        "id": "-gP3KfynX9iq",
        "outputId": "ef35a07a-5e24-4a08-cec9-f929da1efe5d"
      },
      "outputs": [
        {
          "data": {
            "text/plain": [
              "True"
            ]
          },
          "execution_count": 1,
          "metadata": {},
          "output_type": "execute_result"
        }
      ],
      "source": [
        "2 == 2"
      ]
    },
    {
      "cell_type": "code",
      "execution_count": 1,
      "metadata": {
        "colab": {
          "base_uri": "https://localhost:8080/"
        },
        "id": "43Im6C_hYksS",
        "outputId": "7a76cffa-4761-439d-c6d6-06f3664b66ab"
      },
      "outputs": [
        {
          "output_type": "execute_result",
          "data": {
            "text/plain": [
              "False"
            ]
          },
          "metadata": {},
          "execution_count": 1
        }
      ],
      "source": [
        "1 < 2 > 3"
      ]
    },
    {
      "cell_type": "code",
      "execution_count": 3,
      "metadata": {
        "id": "1BtWciAoYk3C",
        "colab": {
          "base_uri": "https://localhost:8080/"
        },
        "outputId": "da467f51-fbe6-41c9-8088-6ca2425fb711"
      },
      "outputs": [
        {
          "output_type": "execute_result",
          "data": {
            "text/plain": [
              "True"
            ]
          },
          "metadata": {},
          "execution_count": 3
        }
      ],
      "source": [
        "3 > 2 and 3 > 2 and 3 > 2 and 5 < 6"
      ]
    },
    {
      "cell_type": "code",
      "execution_count": 4,
      "metadata": {
        "id": "K_StUd9MYk50",
        "colab": {
          "base_uri": "https://localhost:8080/"
        },
        "outputId": "15b9736e-5015-4478-f16e-cf023686f1d8"
      },
      "outputs": [
        {
          "output_type": "execute_result",
          "data": {
            "text/plain": [
              "False"
            ]
          },
          "metadata": {},
          "execution_count": 4
        }
      ],
      "source": [
        " 2 < 3 and 3 > 4"
      ]
    },
    {
      "cell_type": "code",
      "execution_count": 5,
      "metadata": {
        "id": "SX4qiGNkYk8L",
        "colab": {
          "base_uri": "https://localhost:8080/"
        },
        "outputId": "ec3d8351-85f0-4753-a997-96a8a5268d6a"
      },
      "outputs": [
        {
          "output_type": "execute_result",
          "data": {
            "text/plain": [
              "True"
            ]
          },
          "metadata": {},
          "execution_count": 5
        }
      ],
      "source": [
        "2 > 3 or 7 > 2"
      ]
    },
    {
      "cell_type": "markdown",
      "source": [
        "# **IF, ELIF AND ELSE**"
      ],
      "metadata": {
        "id": "KjoNIbUrTHzX"
      }
    },
    {
      "cell_type": "code",
      "execution_count": 24,
      "metadata": {
        "id": "eMvT9Nx4Yk-1",
        "colab": {
          "base_uri": "https://localhost:8080/"
        },
        "outputId": "2de0b856-b09e-406f-f337-ffc336eb3d82"
      },
      "outputs": [
        {
          "output_type": "stream",
          "name": "stdout",
          "text": [
            "Qual é a Temperatura hoje? -5\n",
            "Está muito frio\n"
          ]
        }
      ],
      "source": [
        "temp = float(input(\"Qual é a Temperatura hoje? \"))\n",
        "\n",
        "if temp > 30:\n",
        "  print(\"Está muito quente\")\n",
        "elif temp > 20:\n",
        "  print(\"Está fresco\")\n",
        "elif temp > 0:\n",
        "  print(\"Está frio\")\n",
        "elif temp < 0:\n",
        "  print(\"Está muito frio\")"
      ]
    },
    {
      "cell_type": "markdown",
      "source": [
        "# **RANGE**"
      ],
      "metadata": {
        "id": "fKagFBncWFRX"
      }
    },
    {
      "cell_type": "code",
      "execution_count": 25,
      "metadata": {
        "id": "gkCY8I9KYlBz",
        "colab": {
          "base_uri": "https://localhost:8080/"
        },
        "outputId": "36f705cd-a492-42af-df40-4d0df4f34d64"
      },
      "outputs": [
        {
          "output_type": "execute_result",
          "data": {
            "text/plain": [
              "range(0, 20)"
            ]
          },
          "metadata": {},
          "execution_count": 25
        }
      ],
      "source": [
        "range(0, 20, 1)"
      ]
    },
    {
      "cell_type": "code",
      "execution_count": 3,
      "metadata": {
        "id": "GxoGQAWRYlEO",
        "colab": {
          "base_uri": "https://localhost:8080/"
        },
        "outputId": "ceaaf38e-c077-43ac-a65e-531a74155550"
      },
      "outputs": [
        {
          "output_type": "execute_result",
          "data": {
            "text/plain": [
              "[0, 100]"
            ]
          },
          "metadata": {},
          "execution_count": 3
        }
      ],
      "source": [
        "list(range(0, 20, 2))"
      ]
    },
    {
      "cell_type": "code",
      "execution_count": 4,
      "metadata": {
        "id": "7iWdKtYBYlGr",
        "colab": {
          "base_uri": "https://localhost:8080/"
        },
        "outputId": "bedfd216-b42e-43d4-a394-e65f0034f2a5"
      },
      "outputs": [
        {
          "output_type": "execute_result",
          "data": {
            "text/plain": [
              "[0, 1, 2, 3, 4, 5, 6, 7, 8, 9, 10, 11, 12, 13, 14, 15, 16, 17, 18, 19]"
            ]
          },
          "metadata": {},
          "execution_count": 4
        }
      ],
      "source": [
        "list(range(0, 20))"
      ]
    },
    {
      "cell_type": "code",
      "source": [
        "list(range(20))"
      ],
      "metadata": {
        "id": "7STKLj7wXCL7",
        "outputId": "2ee6db2f-00cf-474a-9e80-f8ec0fe159fe",
        "colab": {
          "base_uri": "https://localhost:8080/"
        }
      },
      "execution_count": 5,
      "outputs": [
        {
          "output_type": "execute_result",
          "data": {
            "text/plain": [
              "[0, 1, 2, 3, 4, 5, 6, 7, 8, 9, 10, 11, 12, 13, 14, 15, 16, 17, 18, 19]"
            ]
          },
          "metadata": {},
          "execution_count": 5
        }
      ]
    }
  ],
  "metadata": {
    "colab": {
      "provenance": [],
      "authorship_tag": "ABX9TyPCA050ZZBlMyiaibeCC6hD",
      "include_colab_link": true
    },
    "kernelspec": {
      "display_name": "Python 3",
      "name": "python3"
    },
    "language_info": {
      "name": "python"
    }
  },
  "nbformat": 4,
  "nbformat_minor": 0
}