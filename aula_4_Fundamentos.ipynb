{
  "cells": [
    {
      "cell_type": "markdown",
      "metadata": {
        "id": "view-in-github",
        "colab_type": "text"
      },
      "source": [
        "<a href=\"https://colab.research.google.com/github/Souzadfs/python-for-data-science/blob/main/aula_4_Fundamentos.ipynb\" target=\"_parent\"><img src=\"https://colab.research.google.com/assets/colab-badge.svg\" alt=\"Open In Colab\"/></a>"
      ]
    },
    {
      "cell_type": "markdown",
      "metadata": {
        "id": "9d-fx25lYB9R"
      },
      "source": [
        "**OPERADORES DE COMPARAÇÃO**"
      ]
    },
    {
      "cell_type": "code",
      "execution_count": null,
      "metadata": {
        "colab": {
          "base_uri": "https://localhost:8080/"
        },
        "id": "-gP3KfynX9iq",
        "outputId": "ef35a07a-5e24-4a08-cec9-f929da1efe5d"
      },
      "outputs": [
        {
          "data": {
            "text/plain": [
              "True"
            ]
          },
          "execution_count": 1,
          "metadata": {},
          "output_type": "execute_result"
        }
      ],
      "source": [
        "2 == 2"
      ]
    },
    {
      "cell_type": "code",
      "execution_count": null,
      "metadata": {
        "colab": {
          "background_save": true
        },
        "id": "43Im6C_hYksS",
        "outputId": "bb0cf571-d45f-4a5c-e7e3-46ea68ab1d51"
      },
      "outputs": [
        {
          "data": {
            "text/plain": [
              "False"
            ]
          },
          "execution_count": 2,
          "metadata": {},
          "output_type": "execute_result"
        }
      ],
      "source": [
        "1 < 2 > 3"
      ]
    },
    {
      "cell_type": "code",
      "execution_count": null,
      "metadata": {
        "colab": {
          "background_save": true
        },
        "id": "1BtWciAoYk3C",
        "outputId": "e4e8ad1f-4195-42e3-e016-307eaf78cae0"
      },
      "outputs": [
        {
          "data": {
            "text/plain": [
              "False"
            ]
          },
          "execution_count": 2,
          "metadata": {},
          "output_type": "execute_result"
        }
      ],
      "source": [
        "1 > 2 and 3 > 2"
      ]
    },
    {
      "cell_type": "markdown",
      "source": [
        "# **COMPREHENSION LIST**"
      ],
      "metadata": {
        "id": "QoMdJK4yiOc3"
      }
    },
    {
      "cell_type": "code",
      "execution_count": 1,
      "metadata": {
        "id": "K_StUd9MYk50"
      },
      "outputs": [],
      "source": [
        "word = \"string\""
      ]
    },
    {
      "cell_type": "code",
      "execution_count": 2,
      "metadata": {
        "id": "SX4qiGNkYk8L"
      },
      "outputs": [],
      "source": [
        "word_list = []\n",
        "for w in word:\n",
        "  word_list.append(w)"
      ]
    },
    {
      "cell_type": "code",
      "execution_count": 4,
      "metadata": {
        "id": "eMvT9Nx4Yk-1",
        "colab": {
          "base_uri": "https://localhost:8080/"
        },
        "outputId": "fa56fd94-967d-49a7-f16d-39c386fa2bbb"
      },
      "outputs": [
        {
          "output_type": "execute_result",
          "data": {
            "text/plain": [
              "['s', 't', 'r', 'i', 'n', 'g']"
            ]
          },
          "metadata": {},
          "execution_count": 4
        }
      ],
      "source": [
        "word_list"
      ]
    },
    {
      "cell_type": "code",
      "execution_count": 5,
      "metadata": {
        "id": "gkCY8I9KYlBz"
      },
      "outputs": [],
      "source": [
        "word_list = [w for w in word_list]"
      ]
    },
    {
      "cell_type": "code",
      "execution_count": 6,
      "metadata": {
        "id": "GxoGQAWRYlEO",
        "colab": {
          "base_uri": "https://localhost:8080/"
        },
        "outputId": "3c4ec930-e8de-4d78-844a-7b38ea724aae"
      },
      "outputs": [
        {
          "output_type": "execute_result",
          "data": {
            "text/plain": [
              "['s', 't', 'r', 'i', 'n', 'g']"
            ]
          },
          "metadata": {},
          "execution_count": 6
        }
      ],
      "source": [
        "word_list"
      ]
    },
    {
      "cell_type": "code",
      "execution_count": null,
      "metadata": {
        "id": "7iWdKtYBYlGr"
      },
      "outputs": [],
      "source": []
    }
  ],
  "metadata": {
    "colab": {
      "provenance": [],
      "authorship_tag": "ABX9TyOljgoA9KTJZWHRM4kpYQCR",
      "include_colab_link": true
    },
    "kernelspec": {
      "display_name": "Python 3",
      "name": "python3"
    },
    "language_info": {
      "name": "python"
    }
  },
  "nbformat": 4,
  "nbformat_minor": 0
}