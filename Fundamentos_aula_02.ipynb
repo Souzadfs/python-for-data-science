{
  "nbformat": 4,
  "nbformat_minor": 0,
  "metadata": {
    "colab": {
      "provenance": [],
      "authorship_tag": "ABX9TyP6ww8DTkP+bIuPvIEzQwPi",
      "include_colab_link": true
    },
    "kernelspec": {
      "name": "python3",
      "display_name": "Python 3"
    },
    "language_info": {
      "name": "python"
    }
  },
  "cells": [
    {
      "cell_type": "markdown",
      "metadata": {
        "id": "view-in-github",
        "colab_type": "text"
      },
      "source": [
        "<a href=\"https://colab.research.google.com/github/Souzadfs/python-for-data-science/blob/main/Fundamentos_aula_02.ipynb\" target=\"_parent\"><img src=\"https://colab.research.google.com/assets/colab-badge.svg\" alt=\"Open In Colab\"/></a>"
      ]
    },
    {
      "cell_type": "markdown",
      "source": [
        "**DICIONÁRIO**"
      ],
      "metadata": {
        "id": "KEllaj-HmMkc"
      }
    },
    {
      "cell_type": "code",
      "execution_count": 2,
      "metadata": {
        "id": "4uKNC3hVmH5k"
      },
      "outputs": [],
      "source": [
        "meu_dicionario = {\"Nome\": \"Denis\", \"idade\": 32, \"Cidade\": \"Araraquara\"}"
      ]
    },
    {
      "cell_type": "code",
      "source": [
        "meu_dicionario"
      ],
      "metadata": {
        "colab": {
          "base_uri": "https://localhost:8080/"
        },
        "id": "_1W7hTpom3b_",
        "outputId": "738407a7-23bd-42c2-95e8-8152a142f136"
      },
      "execution_count": 3,
      "outputs": [
        {
          "output_type": "execute_result",
          "data": {
            "text/plain": [
              "{'Nome': 'Denis', 'idade': '32', 'Cidade': 'Araraquara'}"
            ]
          },
          "metadata": {},
          "execution_count": 3
        }
      ]
    },
    {
      "cell_type": "code",
      "source": [
        "meu_dicionario [\"idade\"] = 35"
      ],
      "metadata": {
        "id": "fmO2tNZom3rl"
      },
      "execution_count": 4,
      "outputs": []
    },
    {
      "cell_type": "code",
      "source": [
        "meu_dicionario"
      ],
      "metadata": {
        "colab": {
          "base_uri": "https://localhost:8080/"
        },
        "id": "eIFFQ7Zum3u_",
        "outputId": "c6bd94ec-a5bd-42f9-870d-673edf3b7847"
      },
      "execution_count": 5,
      "outputs": [
        {
          "output_type": "execute_result",
          "data": {
            "text/plain": [
              "{'Nome': 'Denis', 'idade': 35, 'Cidade': 'Araraquara'}"
            ]
          },
          "metadata": {},
          "execution_count": 5
        }
      ]
    },
    {
      "cell_type": "code",
      "source": [
        "meu_dicionario [\"Estado\"] = \"São Paulo\""
      ],
      "metadata": {
        "id": "0U0DV-LXm32V"
      },
      "execution_count": 6,
      "outputs": []
    },
    {
      "cell_type": "code",
      "source": [
        "meu_dicionario"
      ],
      "metadata": {
        "colab": {
          "base_uri": "https://localhost:8080/"
        },
        "id": "Z5cNVAKsnqzZ",
        "outputId": "ab63b47a-efd2-4ecb-a256-d2f717ba70ab"
      },
      "execution_count": 7,
      "outputs": [
        {
          "output_type": "execute_result",
          "data": {
            "text/plain": [
              "{'Nome': 'Denis', 'idade': 35, 'Cidade': 'Araraquara', 'Estado': 'São Paulo'}"
            ]
          },
          "metadata": {},
          "execution_count": 7
        }
      ]
    },
    {
      "cell_type": "code",
      "source": [
        "meu_dicionario.pop(\"Cidade\")"
      ],
      "metadata": {
        "id": "8zB83lPGnq1v"
      },
      "execution_count": null,
      "outputs": []
    },
    {
      "cell_type": "code",
      "source": [
        "meu_dicionario"
      ],
      "metadata": {
        "colab": {
          "base_uri": "https://localhost:8080/"
        },
        "id": "pHkQRuFlnq5L",
        "outputId": "69c432d1-b66d-4e1f-9dbf-e184a1f8ff13"
      },
      "execution_count": 8,
      "outputs": [
        {
          "output_type": "execute_result",
          "data": {
            "text/plain": [
              "{'Nome': 'Denis', 'idade': 35, 'Cidade': 'Araraquara', 'Estado': 'São Paulo'}"
            ]
          },
          "metadata": {},
          "execution_count": 8
        }
      ]
    },
    {
      "cell_type": "code",
      "source": [
        "meu_dicionario.keys()"
      ],
      "metadata": {
        "colab": {
          "base_uri": "https://localhost:8080/"
        },
        "id": "qlFGDrSOn92k",
        "outputId": "7c4f0c16-19ee-4535-a947-c64269057503"
      },
      "execution_count": 13,
      "outputs": [
        {
          "output_type": "execute_result",
          "data": {
            "text/plain": [
              "dict_keys(['Nome', 'idade', 'Cidade', 'Estado'])"
            ]
          },
          "metadata": {},
          "execution_count": 13
        }
      ]
    },
    {
      "cell_type": "code",
      "source": [
        "meu_dicionario.values()"
      ],
      "metadata": {
        "colab": {
          "base_uri": "https://localhost:8080/"
        },
        "id": "XAY_HfX9n95-",
        "outputId": "acce34e1-9ce8-4c8c-de60-c1296c2d8f93"
      },
      "execution_count": 14,
      "outputs": [
        {
          "output_type": "execute_result",
          "data": {
            "text/plain": [
              "dict_values(['Denis', 35, 'Araraquara', 'São Paulo'])"
            ]
          },
          "metadata": {},
          "execution_count": 14
        }
      ]
    },
    {
      "cell_type": "code",
      "source": [
        "meu_dicionario.items()"
      ],
      "metadata": {
        "colab": {
          "base_uri": "https://localhost:8080/"
        },
        "id": "AQ9ZkOADn-Bg",
        "outputId": "0d339f41-ff47-4907-d086-fdb819ad5cf1"
      },
      "execution_count": 15,
      "outputs": [
        {
          "output_type": "execute_result",
          "data": {
            "text/plain": [
              "dict_items([('Nome', 'Denis'), ('idade', 35), ('Cidade', 'Araraquara'), ('Estado', 'São Paulo')])"
            ]
          },
          "metadata": {},
          "execution_count": 15
        }
      ]
    }
  ]
}